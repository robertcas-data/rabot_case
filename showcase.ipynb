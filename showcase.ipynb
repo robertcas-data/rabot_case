{
 "cells": [
  {
   "cell_type": "markdown",
   "metadata": {},
   "source": [
    "# Setup"
   ]
  },
  {
   "cell_type": "code",
   "execution_count": 1,
   "metadata": {},
   "outputs": [],
   "source": [
    "import pandas as pd\n",
    "import matplotlib.pyplot as plt\n",
    "import seaborn as sns\n",
    "import numpy as np\n",
    "import os\n",
    "\n",
    "meter_file = 'src_data/_MeteringLineValue__202402102328.csv'\n",
    "tarif_file = 'src_data/07-02-2024_2500_NP_99.csv'\n",
    "output_dir_illustrations = './sink_illustrations/'\n",
    "output_dir_data = './sink_illustrations/'\n",
    "os.makedirs(output_dir_illustrations, exist_ok=True)\n",
    "os.makedirs(output_dir_data, exist_ok=True)\n",
    "meter_data = pd.read_csv(meter_file)\n",
    "tarif_data = pd.read_csv(tarif_file)"
   ]
  },
  {
   "cell_type": "markdown",
   "metadata": {},
   "source": [
    "# Exploration\n",
    "Using data wrangler in VS Code for general exploration reg. distribution, nulls, types etc."
   ]
  },
  {
   "cell_type": "code",
   "execution_count": 2,
   "metadata": {},
   "outputs": [],
   "source": [
    "# Visualization setup\n",
    "sns.set_theme(style=\"whitegrid\")\n",
    "\n",
    "# Histograms for numerical columns\n",
    "numerical_cols_1 = meter_data.select_dtypes(include=[np.number]).columns\n",
    "numerical_cols_2 = tarif_data.select_dtypes(include=[np.number]).columns\n",
    "\n",
    "for col in numerical_cols_1:\n",
    "    plt.figure(figsize=(8, 4))\n",
    "    sns.histplot(meter_data[col].dropna(), kde=True)\n",
    "    plt.title(f'Distribution of {col} in File 1')\n",
    "    plt.xlabel(col)\n",
    "    plt.ylabel('Frequency')\n",
    "    plt.savefig(os.path.join(output_dir_illustrations, f'meter_data_distribution_{col}.png'))\n",
    "    plt.close()\n",
    "\n",
    "for col in numerical_cols_2:\n",
    "    plt.figure(figsize=(8, 4))\n",
    "    sns.histplot(tarif_data[col].dropna(), kde=True)\n",
    "    plt.title(f'Distribution of {col} in File 2')\n",
    "    plt.xlabel(col)\n",
    "    plt.ylabel('Frequency')\n",
    "    plt.savefig(os.path.join(output_dir_illustrations, f'tarif_data_distribution_{col}.png'))\n",
    "    plt.close()\n",
    "\n",
    "# Count plots for categorical columns\n",
    "categorical_cols_1 = meter_data.select_dtypes(include=[object]).columns\n",
    "categorical_cols_2 = tarif_data.select_dtypes(include=[object]).columns\n",
    "\n",
    "for col in categorical_cols_1:\n",
    "    plt.figure(figsize=(8, 4))\n",
    "    sns.countplot(y=meter_data[col])\n",
    "    plt.title(f'Distribution of {col} in File 1')\n",
    "    plt.xlabel('Count')\n",
    "    plt.ylabel(col)\n",
    "    plt.savefig(os.path.join(output_dir_illustrations, f'meter_data_distribution_{col}.png'))\n",
    "    plt.close()\n",
    "\n",
    "for col in categorical_cols_2:\n",
    "    plt.figure(figsize=(8, 4))\n",
    "    sns.countplot(y=tarif_data[col])\n",
    "    plt.title(f'Distribution of {col} in File 2')\n",
    "    plt.xlabel('Count')\n",
    "    plt.ylabel(col)\n",
    "    plt.savefig(os.path.join(output_dir_illustrations, f'tarif_data_distribution_{col}.png'))\n",
    "    plt.close()"
   ]
  }
 ],
 "metadata": {
  "kernelspec": {
   "display_name": "Python 3",
   "language": "python",
   "name": "python3"
  },
  "language_info": {
   "codemirror_mode": {
    "name": "ipython",
    "version": 3
   },
   "file_extension": ".py",
   "mimetype": "text/x-python",
   "name": "python",
   "nbconvert_exporter": "python",
   "pygments_lexer": "ipython3",
   "version": "3.12.0"
  }
 },
 "nbformat": 4,
 "nbformat_minor": 2
}
